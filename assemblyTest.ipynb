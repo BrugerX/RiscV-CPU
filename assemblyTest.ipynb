{
 "cells": [
  {
   "cell_type": "code",
   "execution_count": 14,
   "outputs": [],
   "source": [
    "assemblyCode = open(r\"C:\\Users\\DripTooHard\\Documents\\Assignment2Assembly\\testCode.txt\",\"r\")\n",
    "assemblyCode = assemblyCode.readlines(10000)\n"
   ],
   "metadata": {
    "collapsed": false,
    "pycharm": {
     "name": "#%%\n"
    }
   }
  },
  {
   "cell_type": "code",
   "execution_count": 15,
   "outputs": [],
   "source": [
    "newAssemblyCode = []\n",
    "for idx,line in enumerate(assemblyCode):\n",
    "    if line[0] == \"#\":\n",
    "        pass\n",
    "    else:\n",
    "        newAssemblyCode.append(line)"
   ],
   "metadata": {
    "collapsed": false,
    "pycharm": {
     "name": "#%%\n"
    }
   }
  },
  {
   "cell_type": "code",
   "execution_count": 16,
   "outputs": [],
   "source": [
    "def decToBin(integer,bitSize):\n",
    "    return f'{integer:{bitSize}b}'\n",
    "\n",
    "def extendBits(instruction):\n",
    "    new_instruction = \"\"\n",
    "\n",
    "    #First we add 0's\n",
    "    for char in instruction:\n",
    "        if char != \"1\":\n",
    "            new_instruction += \"0\"\n",
    "        else:\n",
    "            new_instruction += \"1\"\n",
    "\n",
    "    while (len(new_instruction) < 32):\n",
    "        new_instruction = new_instruction + \"0\"\n",
    "\n",
    "    return  new_instruction\n",
    "\n",
    "#Type A has the pattern: FO:4 R0:4 R1:4 R2:4\n",
    "def TypeAInstruction(instruction):\n",
    "    #First we get the decimal values\n",
    "    instruction = instruction.split()\n",
    "    R0_dec = instruction[2][1:] #The first char is R, the remaining denotes the index of the register\n",
    "    R1R2 = instruction[3].split(\",\")\n",
    "    R1_dec = R1R2[0][1:]\n",
    "    R2_dec = R1R2[1][1:]\n",
    "    list_of_decimal_values = [R0_dec,R1_dec,R2_dec]\n",
    "\n",
    "    #Now we turn them binary\n",
    "    function_code_dict = {\"ADD\":\"0000\",\"SUB\":\"0001\",\"MUL\":\"0010\"}\n",
    "    function_code = function_code_dict[instruction[1]]\n",
    "\n",
    "    for idx,value in enumerate(list_of_decimal_values):\n",
    "        list_of_decimal_values[idx] = decToBin(int(value),4)\n",
    "\n",
    "    non_32_bit_Instruction = function_code + \"\".join(list_of_decimal_values)\n",
    "\n",
    "\n",
    "    return extendBits(non_32_bit_Instruction)\n",
    "\n",
    "def getBinaryInstruction(funcOpcode,R0,R1,C,lastBitSize = 16):\n",
    "    return extendBits(funcOpcode + decToBin(int(R0),4) + decToBin(int(R1),4) + decToBin(int(C),lastBitSize) + \"0\"*(32 - (12 + lastBitSize)))\n",
    "\n",
    "\n",
    "def assemblyToMachineCode(instruction):\n",
    "    instruction = instruction.split()\n",
    "\n",
    "    function_code_dict = {\"LOAD\":\"0100\",\"SAVE\":\"0101\",\"BNC\":\"1001\",\"BEQ\":\"1001\",\"BNQ\":\"1010\",\"END\":\"1000\",\"ADDI\":\"1100\",\"SUBI\":\"1101\",\"MULI\":\"1110\",\"ADD\":\"0000\",\"SUB\":\"0001\",\"MUL\":\"0010\"}\n",
    "    function_code = function_code_dict[instruction[1]]\n",
    "\n",
    "    if instruction[1] == \"BNC\":\n",
    "        return getBinaryInstruction(function_code,0,0,instruction[2]) #BNC JUMP = BEQ R0 R0,\n",
    "    elif instruction[1] == \"END\":\n",
    "        return \"1\" + \"0\"*31\n",
    "    elif function_code[0:2] == \"01\": #Type D\n",
    "        R0R1 = instruction[2].split(\",\")\n",
    "        R0_dec = R0R1[0][1:]\n",
    "        if function_code[2:4] == \"00\": #Load\n",
    "            R1_dec = R0R1[1][1:]\n",
    "            return getBinaryInstruction(function_code,R0_dec,R1_dec,0)\n",
    "        else:\n",
    "            C = R0R1[1]\n",
    "            return getBinaryInstruction(function_code,0,R0_dec,C)\n",
    "    elif function_code[0:2] == \"00\": #Type A\n",
    "        R0_dec = instruction[2][1:] #The first char is R, the remaining denotes the index of the register\n",
    "        R1R2 = instruction[3].split(\",\")\n",
    "        R1_dec = R1R2[0][1:]\n",
    "        R2_dec = R1R2[1][1:]\n",
    "        return getBinaryInstruction(function_code,R0_dec,R1_dec,R2_dec,lastBitSize=4)\n",
    "    else: #Type I + C - END - BNC\n",
    "        R0_dec = instruction[2][1:] #The first char is R, the remaining denotes the index of the register\n",
    "        R1C = instruction[3].split(\",\")\n",
    "        R1_dec = R1C[0][1:]\n",
    "        C = R1C[1]\n",
    "        return getBinaryInstruction(function_code,R0_dec,R1_dec,C)\n",
    "\n"
   ],
   "metadata": {
    "collapsed": false,
    "pycharm": {
     "name": "#%%\n"
    }
   }
  },
  {
   "cell_type": "code",
   "execution_count": 34,
   "outputs": [
    {
     "name": "stdout",
     "output_type": "stream",
     "text": [
      "00000011000000000000000000000000\n",
      "00000100000000000000000000000000\n",
      "00100101010000100000000000000000\n",
      "00000101010100110000000000000000\n",
      "11000110010100000001100100000000\n",
      "01000111010100000000000000000000\n",
      "10100000011100000000000010100000\n",
      "01010000011000000000000000000000\n",
      "10010000000000000000000111000000\n",
      "10010000001100000000000011110000\n",
      "11010111010100000000000000010000\n",
      "01000111011100000000000000000000\n",
      "10010000011100000000000010000000\n",
      "10010001001100000000000100100000\n",
      "11000111010100000000000000010000\n",
      "01000111011100000000000000000000\n",
      "10010000011100000000000010000000\n",
      "10010000010000000000000101110000\n",
      "00010111010100100000000000000000\n",
      "01000111011100000000000000000000\n",
      "10010000011100000000000010000000\n",
      "10010001010000000000000110110000\n",
      "00000111010100100000000000000000\n",
      "01000111011100000000000000000000\n",
      "10010000011100000000000010000000\n",
      "01000111010100000000000000000000\n",
      "01010000011000000000111111110000\n",
      "10010001010000000000000111110000\n",
      "11000100010000000000000000010000\n",
      "10010000000000000000000000110000\n",
      "10010001001100000000001000100000\n",
      "11000011001100000000000000010000\n",
      "10010000000000000000000000100000\n",
      "10000000000000000000000000000000\n"
     ]
    }
   ],
   "source": [
    "#THIS IS THE BLOCK USED TO GET THE MACHINE CODE\n",
    "\n",
    "assemblyCode = open(r\"C:\\Users\\DripTooHard\\Documents\\Assignment2Assembly\\Assngmentoptimized.txt\",\"r\")\n",
    "assemblyCode = assemblyCode.readlines(10000)\n",
    "\n",
    "with open(r\"C:\\Users\\DripTooHard\\Documents\\Assignment2Assembly\\machineCodeA2Version2.txt\", 'w') as the_file:\n",
    "    for idx,instruction in enumerate(assemblyCode):\n",
    "        try:\n",
    "            if instruction[0] == \"#\":\n",
    "                pass\n",
    "            else:\n",
    "                print(assemblyToMachineCode(instruction))\n",
    "                the_file.write(f\"\\\"b{assemblyToMachineCode(instruction)}\\\".U(32.W),\\n\")\n",
    "        except:\n",
    "            print(idx)"
   ],
   "metadata": {
    "collapsed": false,
    "pycharm": {
     "name": "#%%\n"
    }
   }
  },
  {
   "cell_type": "code",
   "execution_count": 19,
   "outputs": [
    {
     "name": "stdout",
     "output_type": "stream",
     "text": [
      "27. SAVE R6,255 #We know, that if none of the other conditioned passed, that input_im(x,y) = 255 = output_im(x,y)\n",
      "\n",
      "['', '0101', '0000', '0110', '0000', '0000', '1111', '1111', '0000']\n"
     ]
    }
   ],
   "source": [
    "TypeIIns = assemblyCode[29]\n",
    "print(TypeIIns)\n",
    "result = assemblyToMachineCode(TypeIIns)\n",
    "result_list = []\n",
    "for x in range(9):\n",
    "    lower = (x-1)*4\n",
    "    upper = x*4\n",
    "    result_list += [result[lower:upper]]\n",
    "print(result_list)"
   ],
   "metadata": {
    "collapsed": false,
    "pycharm": {
     "name": "#%%\n"
    }
   }
  },
  {
   "cell_type": "code",
   "execution_count": null,
   "outputs": [],
   "source": [],
   "metadata": {
    "collapsed": false,
    "pycharm": {
     "name": "#%%\n"
    }
   }
  },
  {
   "cell_type": "code",
   "execution_count": 18,
   "outputs": [
    {
     "name": "stdout",
     "output_type": "stream",
     "text": [
      "9\n",
      "29\n"
     ]
    }
   ],
   "source": [
    "for idx,line in enumerate(assemblyCode):\n",
    "    line = line.split()\n",
    "    if line[1] == \"SAVE\":\n",
    "        print(idx)\n"
   ],
   "metadata": {
    "collapsed": false,
    "pycharm": {
     "name": "#%%\n"
    }
   }
  },
  {
   "cell_type": "code",
   "execution_count": 85,
   "outputs": [
    {
     "name": "stdout",
     "output_type": "stream",
     "text": [
      "00000011000000000000000000000000\n",
      "00000100000000000000000000000000\n",
      "00100101010000100000000000000000\n",
      "00000101010100110000000000000000\n",
      "11000110010100000001100011110000\n",
      "01000111000000000000000001010000\n",
      "10100000011100000000000010100000\n",
      "01010110000000000000000000000000\n",
      "10010000000000000000000111100000\n",
      "10010000001100000000000011110000\n",
      "11010111010100000000000000010000\n",
      "01000111000000000000000001110000\n",
      "10010000011100000000000010000000\n",
      "10010001001100000000000100100000\n",
      "11000111010100000000000000010000\n",
      "01000111000000000000000001110000\n",
      "10010000011100000000000010000000\n",
      "10010000010000000000000101110000\n",
      "00010111010100100000000000000000\n",
      "01000111000000000000000001110000\n",
      "10010000011100000000000010000000\n",
      "10010000010000000000000111000000\n",
      "00000111010100100000000000000000\n",
      "01000111000000000000000001110000\n",
      "10010000011100000000000010000000\n",
      "01000111000000000000000001010000\n",
      "01010110000000000000000001110000\n",
      "10010010010000000000000111110000\n",
      "11000100010000000000000000010000\n",
      "10010000000000000000000000110000\n",
      "10010010001100000000001000100000\n",
      "11000011001100000000000000010000\n",
      "10010000000000000000000000100000\n",
      "10000000000000000000000000000000\n"
     ]
    }
   ],
   "source": [
    "for idx,instruction in enumerate(assemblyCode):\n",
    "    try:\n",
    "        if instruction[0] == \"#\":\n",
    "            pass\n",
    "        else:\n",
    "            print(assemblyToMachineCode(instruction))\n",
    "    except:\n",
    "        print(idx)\n"
   ],
   "metadata": {
    "collapsed": false,
    "pycharm": {
     "name": "#%%\n"
    }
   }
  },
  {
   "cell_type": "code",
   "execution_count": 52,
   "outputs": [
    {
     "name": "stdout",
     "output_type": "stream",
     "text": [
      "001\n"
     ]
    }
   ],
   "source": [
    "a =\"0011\"\n",
    "print(a[0:3])"
   ],
   "metadata": {
    "collapsed": false,
    "pycharm": {
     "name": "#%%\n"
    }
   }
  },
  {
   "cell_type": "code",
   "execution_count": null,
   "outputs": [],
   "source": [],
   "metadata": {
    "collapsed": false,
    "pycharm": {
     "name": "#%%\n"
    }
   }
  }
 ],
 "metadata": {
  "kernelspec": {
   "display_name": "Python 3",
   "language": "python",
   "name": "python3"
  },
  "language_info": {
   "codemirror_mode": {
    "name": "ipython",
    "version": 2
   },
   "file_extension": ".py",
   "mimetype": "text/x-python",
   "name": "python",
   "nbconvert_exporter": "python",
   "pygments_lexer": "ipython2",
   "version": "2.7.6"
  }
 },
 "nbformat": 4,
 "nbformat_minor": 0
}